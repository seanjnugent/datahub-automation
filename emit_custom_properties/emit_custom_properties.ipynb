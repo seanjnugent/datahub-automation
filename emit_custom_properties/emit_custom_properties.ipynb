{
 "cells": [
  {
   "cell_type": "code",
   "execution_count": null,
   "metadata": {},
   "outputs": [
    {
     "name": "stdout",
     "output_type": "stream",
     "text": [
      "YAML file is valid.\n"
     ]
    }
   ],
   "source": [
    "from jsonschema import validate, ValidationError\n",
    "import yaml\n",
    "\n",
    "def validate_yaml_schema(data, schema_path=\"dataset_schema.json\"):\n",
    "    with open(schema_path, 'r') as schema_file:\n",
    "        schema = yaml.safe_load(schema_file)\n",
    "    try:\n",
    "        validate(instance=data, schema=schema)\n",
    "        print(\"YAML file is valid.\")\n",
    "    except ValidationError as e:\n",
    "        print(f\"Validation error: {e}\")\n",
    "        raise\n",
    "\n",
    "with open(\"custom_properties.yaml\", 'r') as file:\n",
    "    dataset_data = yaml.safe_load(file)\n",
    "\n",
    "validate_yaml_schema(dataset_data, schema_path=\"validation_schema.yaml\")\n"
   ]
  },
  {
   "cell_type": "code",
   "execution_count": 4,
   "metadata": {},
   "outputs": [
    {
     "name": "stdout",
     "output_type": "stream",
     "text": [
      "Processing dataset: urn:li:dataset:(urn:li:dataPlatform:postgres,nrs_demo.public.babies_first_names_23_full_lists_girls,PROD)\n",
      "Custom properties: {'PublicationDate': '2024-01-01', 'TimePeriod': '2025', 'Supplier': 'NRS'}\n",
      "Emitting MCP for urn:li:dataset:(urn:li:dataPlatform:postgres,nrs_demo.public.babies_first_names_23_full_lists_girls,PROD)...\n",
      "Processing dataset: urn:li:dataset:(urn:li:dataPlatform:postgres,nrs_demo.public.babies_first_names_23_full_lists_boys,PROD)\n",
      "Custom properties: {'PublicationDate': '2024-01-01', 'TimePeriod': '2023', 'Supplier': 'NRS'}\n",
      "Emitting MCP for urn:li:dataset:(urn:li:dataPlatform:postgres,nrs_demo.public.babies_first_names_23_full_lists_boys,PROD)...\n",
      "All custom properties emitted successfully!\n"
     ]
    }
   ],
   "source": [
    "import os\n",
    "import yaml\n",
    "from datahub.emitter.mcp import MetadataChangeProposalWrapper\n",
    "from datahub.emitter.rest_emitter import DatahubRestEmitter\n",
    "from datahub.metadata.schema_classes import DatasetPropertiesClass, ChangeTypeClass\n",
    "\n",
    "# Initialize the REST emitter\n",
    "DATAHUB_SERVER_URL = os.getenv(\"DATAHUB_SERVER_URL\")\n",
    "DATAHUB_TOKEN = os.getenv(\"DATAHUB_TOKEN\")\n",
    "emitter = DatahubRestEmitter(gms_server=DATAHUB_SERVER_URL, token=DATAHUB_TOKEN)\n",
    "\n",
    "# Load datasets and custom properties from the YAML file\n",
    "def load_datasets(file_path):\n",
    "    with open(file_path, 'r') as file:\n",
    "        return yaml.safe_load(file)\n",
    "\n",
    "dataset_data = load_datasets(\"custom_properties.yaml\")\n",
    "\n",
    "# Iterate over datasets and emit MetadataChangeProposalWrapper for each\n",
    "for dataset in dataset_data['datasets']:\n",
    "    urn = dataset['urn']\n",
    "    custom_properties = dataset['customProperties']\n",
    "\n",
    "    print(f\"Processing dataset: {urn}\")\n",
    "    print(f\"Custom properties: {custom_properties}\")\n",
    "\n",
    "    # Create MCP for custom properties\n",
    "    mcp = MetadataChangeProposalWrapper(\n",
    "        entityType=\"dataset\",\n",
    "        entityUrn=urn,\n",
    "        aspect=DatasetPropertiesClass(customProperties=custom_properties),\n",
    "        changeType=ChangeTypeClass.UPSERT,\n",
    "    )\n",
    "\n",
    "    # Emit the MCP\n",
    "    print(f\"Emitting MCP for {urn}...\")\n",
    "    emitter.emit_mcp(mcp)\n",
    "\n",
    "print(\"All custom properties emitted successfully!\")\n"
   ]
  }
 ],
 "metadata": {
  "kernelspec": {
   "display_name": "Python 3",
   "language": "python",
   "name": "python3"
  },
  "language_info": {
   "codemirror_mode": {
    "name": "ipython",
    "version": 3
   },
   "file_extension": ".py",
   "mimetype": "text/x-python",
   "name": "python",
   "nbconvert_exporter": "python",
   "pygments_lexer": "ipython3",
   "version": "3.10.12"
  }
 },
 "nbformat": 4,
 "nbformat_minor": 2
}
