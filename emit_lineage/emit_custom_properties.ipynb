{
 "cells": [
  {
   "cell_type": "code",
   "execution_count": 16,
   "metadata": {},
   "outputs": [
    {
     "name": "stdout",
     "output_type": "stream",
     "text": [
      "YAML file is valid.\n"
     ]
    }
   ],
   "source": [
    "import yaml\n",
    "from jsonschema import validate, ValidationError\n",
    "\n",
    "# Load YAML file\n",
    "def load_yaml(file_path):\n",
    "    with open(file_path, 'r') as file:\n",
    "        return yaml.safe_load(file)\n",
    "\n",
    "# Validate YAML file against a schema\n",
    "def validate_yaml_schema(data, schema_path):\n",
    "    with open(schema_path, 'r') as schema_file:\n",
    "        schema = yaml.safe_load(schema_file)\n",
    "    try:\n",
    "        validate(instance=data, schema=schema)\n",
    "        print(\"YAML file is valid.\")\n",
    "    except ValidationError as e:\n",
    "        print(f\"Validation error: {e}\")\n",
    "        raise\n",
    "\n",
    "# Load lineage data\n",
    "lineage_data = load_yaml(\"lineage.yaml\")\n",
    "\n",
    "# Validate lineage.yaml against lineage_schema.yaml\n",
    "validate_yaml_schema(lineage_data, schema_path=\"validation_schema.yaml\")\n"
   ]
  },
  {
   "cell_type": "code",
   "execution_count": 17,
   "metadata": {},
   "outputs": [
    {
     "name": "stdout",
     "output_type": "stream",
     "text": [
      "Processing lineage from urn:li:dataset:(urn:li:dataPlatform:mssql,OpenData.dbo.Companies,PROD) to urn:li:dataset:(urn:li:dataPlatform:mssql,DWH.dbo.UnifiedCompanyList,PROD)\n",
      "Mapping urn:li:schemaField:(urn:li:dataset:(urn:li:dataPlatform:mssql,OpenData.dbo.Companies,PROD),CompanyName) -> urn:li:schemaField:(urn:li:dataset:(urn:li:dataPlatform:mssql,DWH.dbo.UnifiedCompanyList,PROD),CompanyName)\n",
      "Mapping urn:li:schemaField:(urn:li:dataset:(urn:li:dataPlatform:mssql,OpenData.dbo.Companies,PROD),CompanyNumber) -> urn:li:schemaField:(urn:li:dataset:(urn:li:dataPlatform:mssql,DWH.dbo.UnifiedCompanyList,PROD),CompanyNumber)\n",
      "Emitting lineage MCP...\n",
      "Lineage processing complete!\n"
     ]
    }
   ],
   "source": [
    "import os\n",
    "import yaml\n",
    "from dotenv import load_dotenv\n",
    "import datahub.emitter.mce_builder as builder\n",
    "from datahub.emitter.mcp import MetadataChangeProposalWrapper\n",
    "from datahub.emitter.rest_emitter import DatahubRestEmitter\n",
    "from datahub.metadata.com.linkedin.pegasus2avro.dataset import (\n",
    "    DatasetLineageType,\n",
    "    FineGrainedLineage,\n",
    "    FineGrainedLineageDownstreamType,\n",
    "    FineGrainedLineageUpstreamType,\n",
    "    Upstream,\n",
    "    UpstreamLineage,\n",
    ")\n",
    "\n",
    "# Load environment variables\n",
    "load_dotenv()\n",
    "DATAHUB_SERVER_URL = os.getenv(\"DATAHUB_SERVER_URL\")\n",
    "DATAHUB_TOKEN = os.getenv(\"DATAHUB_TOKEN\")\n",
    "\n",
    "# Initialize the DataHub emitter\n",
    "emitter = DatahubRestEmitter(gms_server=DATAHUB_SERVER_URL, token=DATAHUB_TOKEN)\n",
    "\n",
    "# Load lineage data from the YAML file\n",
    "def load_lineage(file_path):\n",
    "    with open(file_path, 'r') as file:\n",
    "        return yaml.safe_load(file)\n",
    "\n",
    "lineage_data = load_lineage(\"lineage.yaml\")\n",
    "\n",
    "# Helper functions for URNs\n",
    "def dataset_urn(platform, name, env):\n",
    "    return f\"urn:li:dataset:(urn:li:dataPlatform:{platform},{name},{env})\"\n",
    "\n",
    "def field_urn(dataset_urn, field):\n",
    "    return builder.make_schema_field_urn(dataset_urn, field)\n",
    "\n",
    "# Process lineages\n",
    "for lineage in lineage_data['lineages']:\n",
    "    source_urn = dataset_urn(lineage['source']['platform'], lineage['source']['dataset'], \"PROD\")\n",
    "    target_urn = dataset_urn(lineage['target']['platform'], lineage['target']['dataset'], \"PROD\")\n",
    "\n",
    "    print(f\"Processing lineage from {source_urn} to {target_urn}\")\n",
    "\n",
    "    # Prepare field-level lineage mappings\n",
    "    fine_grained_lineages = []\n",
    "    for mapping in lineage['field_mappings']:\n",
    "        source_field_urn = field_urn(source_urn, mapping['source_field'])\n",
    "        target_field_urn = field_urn(target_urn, mapping['target_field'])\n",
    "\n",
    "        print(f\"Mapping {source_field_urn} -> {target_field_urn}\")\n",
    "\n",
    "        fine_grained_lineages.append(\n",
    "            FineGrainedLineage(\n",
    "                upstreamType=FineGrainedLineageUpstreamType.FIELD_SET,\n",
    "                upstreams=[source_field_urn],\n",
    "                downstreamType=FineGrainedLineageDownstreamType.FIELD,\n",
    "                downstreams=[target_field_urn],\n",
    "            )\n",
    "        )\n",
    "\n",
    "    # Create and emit lineage\n",
    "    upstreams = [Upstream(dataset=source_urn, type=DatasetLineageType.TRANSFORMED)]\n",
    "    lineage_aspect = UpstreamLineage(upstreams=upstreams, fineGrainedLineages=fine_grained_lineages)\n",
    "\n",
    "    lineage_mcp = MetadataChangeProposalWrapper(entityUrn=target_urn, aspect=lineage_aspect)\n",
    "\n",
    "    print(\"Emitting lineage MCP...\")\n",
    "    emitter.emit_mcp(lineage_mcp)\n",
    "\n",
    "print(\"Lineage processing complete!\")\n"
   ]
  }
 ],
 "metadata": {
  "kernelspec": {
   "display_name": "Python 3",
   "language": "python",
   "name": "python3"
  },
  "language_info": {
   "codemirror_mode": {
    "name": "ipython",
    "version": 3
   },
   "file_extension": ".py",
   "mimetype": "text/x-python",
   "name": "python",
   "nbconvert_exporter": "python",
   "pygments_lexer": "ipython3",
   "version": "3.10.12"
  }
 },
 "nbformat": 4,
 "nbformat_minor": 2
}
